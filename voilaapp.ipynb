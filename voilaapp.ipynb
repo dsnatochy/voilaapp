{
 "cells": [
  {
   "cell_type": "code",
   "execution_count": 2,
   "id": "e9c6c4ba-bfea-4e67-9249-39d154406283",
   "metadata": {},
   "outputs": [],
   "source": [
    "from fastbook import *\n",
    "from fastai.vision.widgets import *"
   ]
  },
  {
   "cell_type": "code",
   "execution_count": 8,
   "id": "55886dff-dcc0-4977-9d73-a1d5579e5ac7",
   "metadata": {},
   "outputs": [
    {
     "name": "stdout",
     "output_type": "stream",
     "text": [
      "Defaulting to user installation because normal site-packages is not writeable\n",
      "Requirement already satisfied: voila in /Users/dnatochy/Library/Python/3.9/lib/python/site-packages (0.5.5)\n",
      "Requirement already satisfied: jupyter-client<9,>=7.4.4 in /Users/dnatochy/Library/Python/3.9/lib/python/site-packages (from voila) (7.4.8)\n",
      "Requirement already satisfied: jupyter-core>=4.11.0 in /Users/dnatochy/Library/Python/3.9/lib/python/site-packages (from voila) (5.1.0)\n",
      "Requirement already satisfied: jupyter-server<3,>=2.0.0 in /Users/dnatochy/Library/Python/3.9/lib/python/site-packages (from voila) (2.0.1)\n",
      "Requirement already satisfied: jupyterlab-server<3,>=2.3.0 in /Users/dnatochy/Library/Python/3.9/lib/python/site-packages (from voila) (2.16.5)\n",
      "Requirement already satisfied: nbclient<0.8,>=0.4.0 in /Users/dnatochy/Library/Python/3.9/lib/python/site-packages (from voila) (0.7.2)\n",
      "Requirement already satisfied: nbconvert<8,>=6.4.5 in /Users/dnatochy/Library/Python/3.9/lib/python/site-packages (from voila) (7.2.6)\n",
      "Requirement already satisfied: traitlets<6,>=5.0.3 in /Users/dnatochy/Library/Python/3.9/lib/python/site-packages (from voila) (5.7.1)\n",
      "Requirement already satisfied: websockets>=9.0 in /Users/dnatochy/Library/Python/3.9/lib/python/site-packages (from voila) (12.0)\n",
      "Requirement already satisfied: entrypoints in /Users/dnatochy/Library/Python/3.9/lib/python/site-packages (from jupyter-client<9,>=7.4.4->voila) (0.4)\n",
      "Requirement already satisfied: nest-asyncio>=1.5.4 in /Users/dnatochy/Library/Python/3.9/lib/python/site-packages (from jupyter-client<9,>=7.4.4->voila) (1.5.6)\n",
      "Requirement already satisfied: python-dateutil>=2.8.2 in /Users/dnatochy/Library/Python/3.9/lib/python/site-packages (from jupyter-client<9,>=7.4.4->voila) (2.8.2)\n",
      "Requirement already satisfied: pyzmq>=23.0 in /Users/dnatochy/Library/Python/3.9/lib/python/site-packages (from jupyter-client<9,>=7.4.4->voila) (24.0.1)\n",
      "Requirement already satisfied: tornado>=6.2 in /Users/dnatochy/Library/Python/3.9/lib/python/site-packages (from jupyter-client<9,>=7.4.4->voila) (6.2)\n",
      "Requirement already satisfied: platformdirs>=2.5 in /Users/dnatochy/Library/Python/3.9/lib/python/site-packages (from jupyter-core>=4.11.0->voila) (2.5.3)\n",
      "Requirement already satisfied: anyio<4,>=3.1.0 in /Users/dnatochy/Library/Python/3.9/lib/python/site-packages (from jupyter-server<3,>=2.0.0->voila) (3.6.2)\n",
      "Requirement already satisfied: argon2-cffi in /Users/dnatochy/Library/Python/3.9/lib/python/site-packages (from jupyter-server<3,>=2.0.0->voila) (21.3.0)\n",
      "Requirement already satisfied: jinja2 in /Users/dnatochy/Library/Python/3.9/lib/python/site-packages (from jupyter-server<3,>=2.0.0->voila) (3.1.2)\n",
      "Requirement already satisfied: jupyter-events>=0.4.0 in /Users/dnatochy/Library/Python/3.9/lib/python/site-packages (from jupyter-server<3,>=2.0.0->voila) (0.5.0)\n",
      "Requirement already satisfied: jupyter-server-terminals in /Users/dnatochy/Library/Python/3.9/lib/python/site-packages (from jupyter-server<3,>=2.0.0->voila) (0.4.2)\n",
      "Requirement already satisfied: nbformat>=5.3.0 in /Users/dnatochy/Library/Python/3.9/lib/python/site-packages (from jupyter-server<3,>=2.0.0->voila) (5.7.0)\n",
      "Requirement already satisfied: packaging in /Users/dnatochy/Library/Python/3.9/lib/python/site-packages (from jupyter-server<3,>=2.0.0->voila) (22.0)\n",
      "Requirement already satisfied: prometheus-client in /Users/dnatochy/Library/Python/3.9/lib/python/site-packages (from jupyter-server<3,>=2.0.0->voila) (0.15.0)\n",
      "Requirement already satisfied: send2trash in /Users/dnatochy/Library/Python/3.9/lib/python/site-packages (from jupyter-server<3,>=2.0.0->voila) (1.8.0)\n",
      "Requirement already satisfied: terminado>=0.8.3 in /Users/dnatochy/Library/Python/3.9/lib/python/site-packages (from jupyter-server<3,>=2.0.0->voila) (0.17.1)\n",
      "Requirement already satisfied: websocket-client in /Users/dnatochy/Library/Python/3.9/lib/python/site-packages (from jupyter-server<3,>=2.0.0->voila) (1.4.2)\n",
      "Requirement already satisfied: babel>=2.10 in /Users/dnatochy/Library/Python/3.9/lib/python/site-packages (from jupyterlab-server<3,>=2.3.0->voila) (2.11.0)\n",
      "Requirement already satisfied: importlib-metadata>=4.8.3 in /Users/dnatochy/Library/Python/3.9/lib/python/site-packages (from jupyterlab-server<3,>=2.3.0->voila) (5.1.0)\n",
      "Requirement already satisfied: json5>=0.9.0 in /Users/dnatochy/Library/Python/3.9/lib/python/site-packages (from jupyterlab-server<3,>=2.3.0->voila) (0.9.10)\n",
      "Requirement already satisfied: jsonschema>=3.0.1 in /Users/dnatochy/Library/Python/3.9/lib/python/site-packages (from jupyterlab-server<3,>=2.3.0->voila) (4.17.3)\n",
      "Requirement already satisfied: requests>=2.28 in /Users/dnatochy/Library/Python/3.9/lib/python/site-packages (from jupyterlab-server<3,>=2.3.0->voila) (2.28.1)\n",
      "Requirement already satisfied: beautifulsoup4 in /Users/dnatochy/Library/Python/3.9/lib/python/site-packages (from nbconvert<8,>=6.4.5->voila) (4.11.1)\n",
      "Requirement already satisfied: bleach in /Users/dnatochy/Library/Python/3.9/lib/python/site-packages (from nbconvert<8,>=6.4.5->voila) (5.0.1)\n",
      "Requirement already satisfied: defusedxml in /Users/dnatochy/Library/Python/3.9/lib/python/site-packages (from nbconvert<8,>=6.4.5->voila) (0.7.1)\n",
      "Requirement already satisfied: jupyterlab-pygments in /Users/dnatochy/Library/Python/3.9/lib/python/site-packages (from nbconvert<8,>=6.4.5->voila) (0.2.2)\n",
      "Requirement already satisfied: markupsafe>=2.0 in /Users/dnatochy/Library/Python/3.9/lib/python/site-packages (from nbconvert<8,>=6.4.5->voila) (2.1.1)\n",
      "Requirement already satisfied: mistune<3,>=2.0.3 in /Users/dnatochy/Library/Python/3.9/lib/python/site-packages (from nbconvert<8,>=6.4.5->voila) (2.0.4)\n",
      "Requirement already satisfied: pandocfilters>=1.4.1 in /Users/dnatochy/Library/Python/3.9/lib/python/site-packages (from nbconvert<8,>=6.4.5->voila) (1.5.0)\n",
      "Requirement already satisfied: pygments>=2.4.1 in /Users/dnatochy/Library/Python/3.9/lib/python/site-packages (from nbconvert<8,>=6.4.5->voila) (2.13.0)\n",
      "Requirement already satisfied: tinycss2 in /Users/dnatochy/Library/Python/3.9/lib/python/site-packages (from nbconvert<8,>=6.4.5->voila) (1.2.1)\n",
      "Requirement already satisfied: idna>=2.8 in /Users/dnatochy/Library/Python/3.9/lib/python/site-packages (from anyio<4,>=3.1.0->jupyter-server<3,>=2.0.0->voila) (3.4)\n",
      "Requirement already satisfied: sniffio>=1.1 in /Users/dnatochy/Library/Python/3.9/lib/python/site-packages (from anyio<4,>=3.1.0->jupyter-server<3,>=2.0.0->voila) (1.3.0)\n",
      "Requirement already satisfied: pytz>=2015.7 in /Users/dnatochy/Library/Python/3.9/lib/python/site-packages (from babel>=2.10->jupyterlab-server<3,>=2.3.0->voila) (2022.6)\n",
      "Requirement already satisfied: zipp>=0.5 in /Users/dnatochy/Library/Python/3.9/lib/python/site-packages (from importlib-metadata>=4.8.3->jupyterlab-server<3,>=2.3.0->voila) (3.11.0)\n",
      "Requirement already satisfied: attrs>=17.4.0 in /Users/dnatochy/Library/Python/3.9/lib/python/site-packages (from jsonschema>=3.0.1->jupyterlab-server<3,>=2.3.0->voila) (22.1.0)\n",
      "Requirement already satisfied: pyrsistent!=0.17.0,!=0.17.1,!=0.17.2,>=0.14.0 in /Users/dnatochy/Library/Python/3.9/lib/python/site-packages (from jsonschema>=3.0.1->jupyterlab-server<3,>=2.3.0->voila) (0.19.2)\n",
      "Requirement already satisfied: python-json-logger in /Users/dnatochy/Library/Python/3.9/lib/python/site-packages (from jupyter-events>=0.4.0->jupyter-server<3,>=2.0.0->voila) (2.0.4)\n",
      "Requirement already satisfied: pyyaml in /Users/dnatochy/Library/Python/3.9/lib/python/site-packages (from jupyter-events>=0.4.0->jupyter-server<3,>=2.0.0->voila) (6.0)\n",
      "Requirement already satisfied: fastjsonschema in /Users/dnatochy/Library/Python/3.9/lib/python/site-packages (from nbformat>=5.3.0->jupyter-server<3,>=2.0.0->voila) (2.16.2)\n",
      "Requirement already satisfied: six>=1.5 in /Library/Developer/CommandLineTools/Library/Frameworks/Python3.framework/Versions/3.9/lib/python3.9/site-packages (from python-dateutil>=2.8.2->jupyter-client<9,>=7.4.4->voila) (1.15.0)\n",
      "Requirement already satisfied: charset-normalizer<3,>=2 in /Users/dnatochy/Library/Python/3.9/lib/python/site-packages (from requests>=2.28->jupyterlab-server<3,>=2.3.0->voila) (2.1.1)\n",
      "Requirement already satisfied: urllib3<1.27,>=1.21.1 in /Users/dnatochy/Library/Python/3.9/lib/python/site-packages (from requests>=2.28->jupyterlab-server<3,>=2.3.0->voila) (1.26.12)\n",
      "Requirement already satisfied: certifi>=2017.4.17 in /Users/dnatochy/Library/Python/3.9/lib/python/site-packages (from requests>=2.28->jupyterlab-server<3,>=2.3.0->voila) (2022.9.24)\n",
      "Requirement already satisfied: ptyprocess in /Users/dnatochy/Library/Python/3.9/lib/python/site-packages (from terminado>=0.8.3->jupyter-server<3,>=2.0.0->voila) (0.7.0)\n",
      "Requirement already satisfied: argon2-cffi-bindings in /Users/dnatochy/Library/Python/3.9/lib/python/site-packages (from argon2-cffi->jupyter-server<3,>=2.0.0->voila) (21.2.0)\n",
      "Requirement already satisfied: soupsieve>1.2 in /Users/dnatochy/Library/Python/3.9/lib/python/site-packages (from beautifulsoup4->nbconvert<8,>=6.4.5->voila) (2.3.2.post1)\n",
      "Requirement already satisfied: webencodings in /Users/dnatochy/Library/Python/3.9/lib/python/site-packages (from bleach->nbconvert<8,>=6.4.5->voila) (0.5.1)\n",
      "Requirement already satisfied: fqdn in /Users/dnatochy/Library/Python/3.9/lib/python/site-packages (from jsonschema>=3.0.1->jupyterlab-server<3,>=2.3.0->voila) (1.5.1)\n",
      "Requirement already satisfied: isoduration in /Users/dnatochy/Library/Python/3.9/lib/python/site-packages (from jsonschema>=3.0.1->jupyterlab-server<3,>=2.3.0->voila) (20.11.0)\n",
      "Requirement already satisfied: jsonpointer>1.13 in /Users/dnatochy/Library/Python/3.9/lib/python/site-packages (from jsonschema>=3.0.1->jupyterlab-server<3,>=2.3.0->voila) (2.3)\n",
      "Requirement already satisfied: rfc3339-validator in /Users/dnatochy/Library/Python/3.9/lib/python/site-packages (from jsonschema>=3.0.1->jupyterlab-server<3,>=2.3.0->voila) (0.1.4)\n",
      "Requirement already satisfied: rfc3986-validator>0.1.0 in /Users/dnatochy/Library/Python/3.9/lib/python/site-packages (from jsonschema>=3.0.1->jupyterlab-server<3,>=2.3.0->voila) (0.1.1)\n",
      "Requirement already satisfied: uri-template in /Users/dnatochy/Library/Python/3.9/lib/python/site-packages (from jsonschema>=3.0.1->jupyterlab-server<3,>=2.3.0->voila) (1.2.0)\n",
      "Requirement already satisfied: webcolors>=1.11 in /Users/dnatochy/Library/Python/3.9/lib/python/site-packages (from jsonschema>=3.0.1->jupyterlab-server<3,>=2.3.0->voila) (1.12)\n",
      "Requirement already satisfied: cffi>=1.0.1 in /Users/dnatochy/Library/Python/3.9/lib/python/site-packages (from argon2-cffi-bindings->argon2-cffi->jupyter-server<3,>=2.0.0->voila) (1.15.1)\n",
      "Requirement already satisfied: pycparser in /Users/dnatochy/Library/Python/3.9/lib/python/site-packages (from cffi>=1.0.1->argon2-cffi-bindings->argon2-cffi->jupyter-server<3,>=2.0.0->voila) (2.21)\n",
      "Requirement already satisfied: arrow>=0.15.0 in /Users/dnatochy/Library/Python/3.9/lib/python/site-packages (from isoduration->jsonschema>=3.0.1->jupyterlab-server<3,>=2.3.0->voila) (1.2.3)\n",
      "\n",
      "\u001b[1m[\u001b[0m\u001b[34;49mnotice\u001b[0m\u001b[1;39;49m]\u001b[0m\u001b[39;49m A new release of pip is available: \u001b[0m\u001b[31;49m23.1.2\u001b[0m\u001b[39;49m -> \u001b[0m\u001b[32;49m23.3.1\u001b[0m\n",
      "\u001b[1m[\u001b[0m\u001b[34;49mnotice\u001b[0m\u001b[1;39;49m]\u001b[0m\u001b[39;49m To update, run: \u001b[0m\u001b[32;49m/Library/Developer/CommandLineTools/usr/bin/python3 -m pip install --upgrade pip\u001b[0m\n",
      "Enabling: voila\n",
      "- Writing config: /Users/dnatochy/.jupyter\n",
      "    - Validating...\n",
      "      voila 0.5.5 \u001b[32mOK\u001b[0m\n"
     ]
    }
   ],
   "source": [
    "!pip install voila\n",
    "!jupyter serverextension enable voila "
   ]
  },
  {
   "cell_type": "code",
   "execution_count": 3,
   "id": "1efbda14-040f-43b9-b10c-06a0236b135c",
   "metadata": {},
   "outputs": [],
   "source": [
    "path = Path()\n",
    "learn_inf = load_learner(path/'export.pkl') \n"
   ]
  },
  {
   "cell_type": "code",
   "execution_count": 4,
   "id": "3dd190e3-a14f-4a76-bf4d-8cec3b6d32cb",
   "metadata": {},
   "outputs": [
    {
     "name": "stdout",
     "output_type": "stream",
     "text": [
      "                                                                     \r"
     ]
    },
    {
     "data": {
      "text/plain": [
       "('grizzly', tensor(1), tensor([2.5510e-07, 1.0000e+00, 6.1092e-07]))"
      ]
     },
     "execution_count": 4,
     "metadata": {},
     "output_type": "execute_result"
    }
   ],
   "source": [
    "learn_inf.predict('images/grizzly.jpg')"
   ]
  },
  {
   "cell_type": "code",
   "execution_count": 9,
   "id": "b5ae411a-ba3f-4415-9e4d-f880594477c4",
   "metadata": {},
   "outputs": [
    {
     "data": {
      "application/vnd.jupyter.widget-view+json": {
       "model_id": "4183bf113fdc429a99e7aa81f5ec8c16",
       "version_major": 2,
       "version_minor": 0
      },
      "text/plain": [
       "VBox(children=(Label(value='Select your bear!'), FileUpload(value={}, description='Upload'), Button(descriptio…"
      ]
     },
     "metadata": {},
     "output_type": "display_data"
    }
   ],
   "source": [
    "btn_upload = widgets.FileUpload()\n",
    "out_pl = widgets.Output()\n",
    "lbl_pred = widgets.Label()\n",
    "btn_run = widgets.Button(description='Classify')\n",
    "\n",
    "def on_click_classify(change):\n",
    "    img = PILImage.create(btn_upload.data[-1])\n",
    "    out_pl.clear_output()\n",
    "    with out_pl: display(img.to_thumb(128,128))\n",
    "    pred,pred_idx,probs = learn_inf.predict(img)\n",
    "    lbl_pred.value = f'Prediction: {pred}; Probability: {probs[pred_idx]:.04f}'\n",
    "\n",
    "btn_run.on_click(on_click_classify)\n",
    "\n",
    "VBox([widgets.Label('Select your bear!'), \n",
    "      btn_upload, btn_run, out_pl, lbl_pred])"
   ]
  },
  {
   "cell_type": "code",
   "execution_count": null,
   "id": "96a2f7f5-cb9f-48ff-9527-9e3b6ce24100",
   "metadata": {},
   "outputs": [],
   "source": []
  }
 ],
 "metadata": {
  "kernelspec": {
   "display_name": "Python 3 (ipykernel)",
   "language": "python",
   "name": "python3"
  },
  "language_info": {
   "codemirror_mode": {
    "name": "ipython",
    "version": 3
   },
   "file_extension": ".py",
   "mimetype": "text/x-python",
   "name": "python",
   "nbconvert_exporter": "python",
   "pygments_lexer": "ipython3",
   "version": "3.9.6"
  }
 },
 "nbformat": 4,
 "nbformat_minor": 5
}
